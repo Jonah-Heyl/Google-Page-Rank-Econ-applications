{
 "cells": [
  {
   "cell_type": "markdown",
   "metadata": {
    "vscode": {
     "languageId": "bat"
    }
   },
   "source": [
    "# Google Rank and Pareto Alloctions \n",
    "\n",
    "## By Jonah Heyl\n",
    "\n",
    "\n",
    "This borrows code from the type allocation notebook, made by Prof. Peters, and James Yu; however, it takes a considerably different approach when it comes to allocating universities into tiers. Here we use the inverse google page rank algorithm to rank all of the universities. Then we group universities into tiers, based on the distribution of page ranks. The reason we use page ranks is, that using the raw number of outcomes to group lacks, relativity. For instance, let's say MIT has 20 grads (over the range where investigating), and the University of Fudan has 200 grads. Now suppose all MIT grads go to work at Harvard as assistant professors, and 30 of Fudan's grads go to Harvard. You would think MIT is a better school right, well in the monte Carlo simulation is previously done, the University of FUDAN would be more likely to get into the first tier (given MIT and Fudan are the same in every other regard). This brings us to our next problem, the original tiers were made using a stochastic algorithm. Charting out the space of possible solutions, to find a \"good\" ranking is nearly computational impossible. Thus there is absolutely no assurance that the ordinal ranks presented are indeed the global minimum. This new approach does have some weaknesses, as well for instance it assumes the page rankings follow a piecewise Pareto distribution, furthermore it's using an inverse google page rank as a metric for academic quality. Both of these assumptions we will discuss later. Also note that the original method did not initially rank the clusters, until after the allocation was done; however, the points made are true when thinking about the entire process."
   ]
  },
  {
   "cell_type": "markdown",
   "metadata": {},
   "source": [
    "###  Set up:"
   ]
  },
  {
   "cell_type": "code",
   "execution_count": 1,
   "metadata": {},
   "outputs": [],
   "source": [
    "YEAR_INTERVAL = range(2002,2022)  # change this to select the years of data to include in the estimation\n"
   ]
  },
  {
   "cell_type": "code",
   "execution_count": 2,
   "metadata": {},
   "outputs": [],
   "source": [
    "import os\n",
    "try:\n",
    "    import requests as rq\n",
    "except:\n",
    "    os.system(\"pip install requests\")\n",
    "    import requests as rq\n",
    "try:\n",
    "    import json\n",
    "except:\n",
    "    os.system(\"pip install json\")\n",
    "    import json\n",
    "try:\n",
    "    import numpy as np\n",
    "except:\n",
    "    os.system(\"pip install numpy\")\n",
    "    import numpy as np\n"
   ]
  },
  {
   "cell_type": "code",
   "execution_count": 3,
   "metadata": {},
   "outputs": [],
   "source": [
    "np.random.seed(1234)"
   ]
  },
  {
   "cell_type": "code",
   "execution_count": 4,
   "metadata": {},
   "outputs": [],
   "source": [
    "def get_data(url):\n",
    "    resp =rq.get(url);\n",
    "    es = resp.json()\n",
    "    return es\n"
   ]
  },
  {
   "cell_type": "code",
   "execution_count": 5,
   "metadata": {},
   "outputs": [],
   "source": [
    "def find_inst(name,outcomes,to_from = False):\n",
    "    check = False\n",
    "    for outcome in outcomes:\n",
    "        if to_from == True:\n",
    "            if outcome[\"to_name\"] == name:\n",
    "                print('\\n'+outcome)\n",
    "                check = True\n",
    "            \n",
    "        else:\n",
    "            if outcome[\"from_institution_name\"] == name:\n",
    "                print('\\n',outcome)\n",
    "                check = True\n",
    "            \n",
    "        \n",
    "    \n",
    "    if check == False:\n",
    "        print('\\n'+\"Not found\")\n",
    "    "
   ]
  },
  {
   "cell_type": "markdown",
   "metadata": {},
   "source": [
    "This part gets all the placement data using `https://support.econjobmarket.org/api/placement_data`"
   ]
  },
  {
   "cell_type": "code",
   "execution_count": 6,
   "metadata": {},
   "outputs": [
    {
     "name": "stdout",
     "output_type": "stream",
     "text": [
      "14678\n"
     ]
    }
   ],
   "source": [
    "url = \"https://support.econjobmarket.org/api/placement_data\"\n",
    "placements = get_data(url)\n",
    "print(len(placements),sep='\\n')\n",
    "#print(type(placements),sep='\\n')"
   ]
  },
  {
   "cell_type": "code",
   "execution_count": 7,
   "metadata": {},
   "outputs": [
    {
     "name": "stdout",
     "output_type": "stream",
     "text": [
      "14678 \n",
      "\n",
      "14678\n"
     ]
    }
   ],
   "source": [
    "u= lambda x:  [i for n, i in enumerate(x) if i not in x[:n]]\n",
    "print(len(placements),'\\n')\n",
    "placements = u(placements)\n",
    "print(len(placements),sep='\\n')"
   ]
  },
  {
   "cell_type": "code",
   "execution_count": 8,
   "metadata": {},
   "outputs": [
    {
     "name": "stdout",
     "output_type": "stream",
     "text": [
      "7036  total assistant professor outcomes \n",
      "\n",
      "7239  other outcomes \n",
      "\n",
      "14275 \n",
      "\n"
     ]
    }
   ],
   "source": [
    "i = 0\n",
    "oid_mapping = {}\n",
    "institution_mapping = {}\n",
    "academic = []\n",
    "academic_to = []\n",
    "academic_builder = []\n",
    "sink_builder = []\n",
    "for placement in placements:\n",
    "    if int(placement[\"year\"]) in YEAR_INTERVAL:\n",
    "            academic.append(placement[\"from_institution_name\"])\n",
    "            academic_to.append( placement[\"to_name\"])\n",
    "            oid_mapping[placement[\"from_oid\"]] = placement[\"from_institution_id\"]\n",
    "            oid_mapping[placement[\"to_oid\"]] = placement[\"to_institution_id\"]\n",
    "            institution_mapping[placement[\"from_institution_id\"]] = placement[\"from_institution_name\"]\n",
    "            institution_mapping[placement[\"to_institution_id\"]] = placement[\"to_name\"]\n",
    "            if placement[\"position_name\"] == \"Assistant Professor\":\n",
    "               academic_builder.append( placement)\n",
    "            else:\n",
    "                sink_builder.append(placement)\n",
    "\n",
    "\n",
    "academic_builder=academic_builder;sink_builder=u(sink_builder);academic=u(academic);academic_to=u(academic_to);sink_builder=u(sink_builder)\n",
    "print(len(academic_builder), \" total assistant professor outcomes\",'\\n')\n",
    "print(len(sink_builder), \" other outcomes\",'\\n')\n",
    "print(len(academic_builder)+len(sink_builder),'\\n') "
   ]
  },
  {
   "cell_type": "code",
   "execution_count": null,
   "metadata": {},
   "outputs": [],
   "source": []
  },
  {
   "cell_type": "code",
   "execution_count": 9,
   "metadata": {},
   "outputs": [
    {
     "name": "stdout",
     "output_type": "stream",
     "text": [
      "14275 \n",
      "\n"
     ]
    }
   ],
   "source": [
    "all_inst= academic_builder+sink_builder\n",
    "print(len(all_inst),'\\n')"
   ]
  },
  {
   "cell_type": "markdown",
   "metadata": {},
   "source": [
    "We set the year itnerval to the the whole interval of placements; however if you set it to something else, than this number would be smaller. "
   ]
  },
  {
   "cell_type": "code",
   "execution_count": 10,
   "metadata": {},
   "outputs": [
    {
     "name": "stdout",
     "output_type": "stream",
     "text": [
      "academic: 711 \n",
      "\n",
      "academic_to: 1792 \n",
      "\n",
      "tch_sink: 1185 \n",
      "\n"
     ]
    }
   ],
   "source": [
    "tch_sink = [] # sink of teaching universities that do not graduate PhDs\n",
    "for key in academic_to:\n",
    "    if not(key in academic):\n",
    "        tch_sink.append(key)\n",
    "tch_sink=u(tch_sink)\n",
    "print(\"academic:\",len(academic),'\\n')\n",
    "print(\"academic_to:\",len(academic_to),'\\n')\n",
    "print(\"tch_sink:\",len(tch_sink),'\\n')"
   ]
  },
  {
   "cell_type": "markdown",
   "metadata": {},
   "source": [
    "The next piece of code sorts all the sink departments (except teaching universities, which are dealt with above) by category:"
   ]
  },
  {
   "cell_type": "code",
   "execution_count": 11,
   "metadata": {},
   "outputs": [
    {
     "name": "stdout",
     "output_type": "stream",
     "text": [
      "882 \n",
      "\n",
      "147 \n",
      "\n",
      "191 \n",
      "\n"
     ]
    }
   ],
   "source": [
    "\n",
    "\n",
    "acd_sink = []\n",
    "gov_sink = []\n",
    "pri_sink = []\n",
    "count=0\n",
    "for outcome in sink_builder:\n",
    "    # CODE global academic, other_placements, pri_sink, gov_sink, acd_sink\n",
    "    if outcome[\"recruiter_type\"] in [\"6\",\"7\"]:\n",
    "        # private sector: for and not for profit\n",
    "        pri_sink+=[(outcome[\"to_name\"], \" (private sector)\")]\n",
    "    elif outcome[\"recruiter_type\"] == \"5\":\n",
    "        # government institution\n",
    "        gov_sink+=[(outcome[\"to_name\"], \" (public sector)\")]\n",
    "    else:\n",
    "        # everything else including terminal academic positions\n",
    "        acd_sink+=[(outcome[\"to_name\"], \" (academic sink)\")]\n",
    "        count+=1\n",
    "    \n",
    "\n",
    "acd_sink=u(acd_sink);gov_sink=u(gov_sink);pri_sink=u(pri_sink)\n",
    "print(len(acd_sink),'\\n')\n",
    "print(len(gov_sink),'\\n')\n",
    "print(len(pri_sink),'\\n')"
   ]
  },
  {
   "cell_type": "markdown",
   "metadata": {},
   "source": [
    "Instead of constructing the adjency matrix, we will construct a wiehgted dirrected graph with all of the univirsities."
   ]
  },
  {
   "cell_type": "code",
   "execution_count": 12,
   "metadata": {},
   "outputs": [],
   "source": [
    "institutions = academic+ acd_sink+gov_sink+pri_sink+tch_sink"
   ]
  },
  {
   "cell_type": "code",
   "execution_count": 13,
   "metadata": {},
   "outputs": [
    {
     "data": {
      "text/plain": [
       "3116"
      ]
     },
     "execution_count": 13,
     "metadata": {},
     "output_type": "execute_result"
    }
   ],
   "source": [
    "len(institutions)"
   ]
  },
  {
   "cell_type": "code",
   "execution_count": 15,
   "metadata": {},
   "outputs": [
    {
     "name": "stdout",
     "output_type": "stream",
     "text": [
      "Total number of outcomes:  14275 \n",
      "\n",
      "147 \n",
      "\n",
      "191 \n",
      "\n"
     ]
    }
   ],
   "source": [
    "out = np.zeros((len(institutions), len(academic)) )\n",
    "i = 0\n",
    "for outcome in academic_builder:\n",
    "    i += 1\n",
    "    try:\n",
    "        out[np.where(outcome[\"to_name\"]==institutions)[0][0],np.where(outcome[\"from_institution_name\"]==institutions)[0][0]]+=1\n",
    "    except IndexError:\n",
    "        pass\n",
    "\n",
    "for outcome in sink_builder:\n",
    "    i += 1\n",
    "    keycheck = \"\"\n",
    "    if outcome[\"recruiter_type\"] in [\"6\", \"7\"]:\n",
    "        keycheck = str(outcome[\"to_name\"]) # + \" (private sector)\"\n",
    "    elif outcome[\"recruiter_type\"] == \"5\":\n",
    "        keycheck = outcome[\"to_name\"] # + \" (public sector)\"\n",
    "    else:\n",
    "        keycheck = outcome[\"to_name\"] # + \"(academic sink)\"\n",
    "    \n",
    "    #println(keycheck)\n",
    "    #println(findfirst(isequal(keycheck), institutions))\n",
    "    #println(outcome[\"from_institution_name\"],\" \",findfirst(isequal(outcome[\"from_institution_name\"]), institutions))\n",
    "    try:\n",
    "        out[np.where(keycheck== institutions)[0][0],np.where(outcome[\"from_institution_name\"]== institutions)[0][0]] += 1\n",
    "    except IndexError:\n",
    "        pass\n",
    "\n",
    "print(\"Total number of outcomes: \", i,'\\n',sep=' ')\n",
    "print(len(gov_sink),'\\n')\n",
    "print(len(pri_sink),'\\n')\n",
    "\n"
   ]
  },
  {
   "cell_type": "markdown",
   "metadata": {},
   "source": [
    "### Createing the dirrected graph:\n",
    "\n",
    "Here we start makeing a dirrected graph, each node is a unvirsitity which has many edges, each of which are dirrected.  The edges connect the unvirsities from a given set of placements.But the dirrection is flipped, so if the dirrected edge points into Harvard, it means the from_insutions in the given placement is Harvard.The converse is true for the edges that point away from the unvirisities. Now each edge is wieghted, by the number of placements of that type that occur in the data. So, if Harvard had 3 people end up working at stripe, then there would be two edges, one pointing into hHrved from stripe, and another pointing away from stripe ,both would be wieghted three.This is what is meant by an \"inverse google search rank\", we are flipping the dirrection of the arrows. This because good unviristities are typical thought of as ones that get their grads jobs at highly slective places, not unviristies that hire lots of people."
   ]
  },
  {
   "cell_type": "code",
   "execution_count": 16,
   "metadata": {},
   "outputs": [],
   "source": [
    "try:\n",
    "    import networkx as nx\n",
    "except:\n",
    "    os.system(\"pip install networkx\")\n",
    "    import networkx as nx"
   ]
  },
  {
   "cell_type": "code",
   "execution_count": 17,
   "metadata": {},
   "outputs": [],
   "source": [
    "DG = nx.DiGraph()\n",
    "DG.add_nodes_from(institutions)"
   ]
  },
  {
   "cell_type": "markdown",
   "metadata": {},
   "source": [
    "This next cell makes a dirrected wieghted graph of all the placements"
   ]
  },
  {
   "cell_type": "code",
   "execution_count": 18,
   "metadata": {},
   "outputs": [],
   "source": [
    "for inst in institutions:\n",
    "        l=list(filter(lambda e: e[\"from_institution_name\"]==inst,placements)) \n",
    "        to_names=list(map(lambda i: i[\"to_name\"],l))\n",
    "        for name in u(to_names):\n",
    "                DG.add_weighted_edges_from([(name, inst, to_names.count(name))])  #putting the edges bacwards\n",
    "                \n",
    "  \n",
    "        \n",
    "  \n",
    "           "
   ]
  },
  {
   "cell_type": "markdown",
   "metadata": {},
   "source": [
    "# Google Page Rank Algorithim\n",
    "\n",
    "Here we use the google page rank algorithim to rank all of the unvirsities. Now what is the google page rank, algorithim, well it ranks insutations based on the probabibility of being at a given insution for a being who is pepertally getting hired and graduteing from unviristies.This is also approximatly, many people graduteing and getting hired at different places over a finite peirod of time.This describes the eigon-vector  of the adjency matrix of our graph (in patricalr the egion vector with the highest egion value)."
   ]
  },
  {
   "cell_type": "code",
   "execution_count": 19,
   "metadata": {},
   "outputs": [],
   "source": [
    "from networkx import pagerank "
   ]
  },
  {
   "cell_type": "code",
   "execution_count": 20,
   "metadata": {},
   "outputs": [],
   "source": [
    "def pagerank_numpy(G, alpha=0.85, personalization=None, weight='weight', dangling=None): \n",
    "\n",
    "    if len(G) == 0:\n",
    "        return {}\n",
    "\n",
    "    M = nx.google_matrix(G, alpha, personalization=personalization,\n",
    "                      weight=weight, dangling=dangling)\n",
    "\n",
    "    eigenvalues, eigenvectors = np.linalg.eig(M.T)\n",
    "    ind = eigenvalues.argsort()\n",
    "    largest = np.array(eigenvectors[:, ind[-1]]).flatten().real\n",
    "    norm = float(largest.sum())\n",
    "\n",
    "    return dict(zip(G, map(float, largest / norm))) "
   ]
  },
  {
   "cell_type": "code",
   "execution_count": 21,
   "metadata": {},
   "outputs": [
    {
     "name": "stderr",
     "output_type": "stream",
     "text": [
      "C:\\Users\\Jonah\\AppData\\Local\\Temp\\ipykernel_22428\\2301286281.py:6: FutureWarning: google_matrix will return an np.ndarray instead of a np.matrix in\n",
      "NetworkX version 3.0.\n",
      "  M = nx.google_matrix(G, alpha, personalization=personalization,\n"
     ]
    }
   ],
   "source": [
    "pr=pagerank_numpy(DG)"
   ]
  },
  {
   "cell_type": "code",
   "execution_count": 25,
   "metadata": {},
   "outputs": [
    {
     "data": {
      "text/plain": [
       "OutEdgeDataView([('University of California Los Angeles (UCLA)', 'University of California Los Angeles (UCLA)', None), ('University of California Los Angeles (UCLA)', 'University of Maryland', None), ('University of California Los Angeles (UCLA)', 'New York University', None), ('University of California Los Angeles (UCLA)', 'Yale University', None), ('University of California Los Angeles (UCLA)', 'Harvard University', None), ('University of California Los Angeles (UCLA)', 'Princeton University', None), ('University of California Los Angeles (UCLA)', 'University of Michigan', None), ('University of California Los Angeles (UCLA)', 'Duke University', None), ('University of California Los Angeles (UCLA)', 'Stanford University', None), ('University of California Los Angeles (UCLA)', 'Massachusetts Institute of Technology', None), ('University of California Los Angeles (UCLA)', 'University of California, Berkeley', None), ('University of California Los Angeles (UCLA)', 'Northwestern University', None), ('University of California Los Angeles (UCLA)', 'Columbia University', None), ('University of California Los Angeles (UCLA)', 'Michigan State University', None), ('University of California Los Angeles (UCLA)', 'University of Pennsylvania', None), ('University of California Los Angeles (UCLA)', 'Katholieke Universiteit Leuven (KU Leuven)', None), ('University of California Los Angeles (UCLA)', 'University of Bonn (Rheinische Friedrich-Wilhelms-Universität Bonn)', None), ('University of California Los Angeles (UCLA)', 'Ecole Polytechnique (IP Paris)', None), ('University of California Los Angeles (UCLA)', 'Boston College', None), ('University of California Los Angeles (UCLA)', 'University of Chicago', None), ('University of California Los Angeles (UCLA)', 'Cornell University', None), ('University of California Los Angeles (UCLA)', 'University of Minnesota, Twin Cities', None), ('University of California Los Angeles (UCLA)', 'Georgetown University', None), ('University of California Los Angeles (UCLA)', 'University of Texas at Austin', None), ('University of California Los Angeles (UCLA)', 'Washington University in St. Louis', None), ('University of California Los Angeles (UCLA)', 'University of Wisconsin, Madison', None), ('University of California Los Angeles (UCLA)', 'University of Lausanne (Université de Lausanne)', None), ('University of California Los Angeles (UCLA)', 'Washington State University', None), ('University of California Los Angeles (UCLA)', 'University of Toronto', None), ('University of California Los Angeles (UCLA)', 'Maastricht University', None), ('University of California Los Angeles (UCLA)', 'Toulouse School of Economics', None), ('University of California Los Angeles (UCLA)', 'Sciences Po', None), ('University of California Los Angeles (UCLA)', 'University of California, Irvine', None), ('University of California Los Angeles (UCLA)', 'University of California, Santa Barbara', None), ('University of California Los Angeles (UCLA)', 'Middle Tennessee State University', None), ('University of California Los Angeles (UCLA)', 'ETH Zurich (Swiss Federal Institute of Technology; Eidgenössische Technische Hochschule)', None), ('University of California Los Angeles (UCLA)', 'Florida State University', None), ('University of California Los Angeles (UCLA)', 'Claremont Graduate University', None), ('University of California Los Angeles (UCLA)', 'University of Bern (Universität Bern)', None), ('University of California Los Angeles (UCLA)', 'Utrecht University (Universiteit Utrecht)', None), ('University of California Los Angeles (UCLA)', 'University of Miami', None), ('University of California Los Angeles (UCLA)', 'University of Alberta', None)])"
      ]
     },
     "execution_count": 25,
     "metadata": {},
     "output_type": "execute_result"
    }
   ],
   "source": [
    "DG.edges('University of California Los Angeles (UCLA)', 'University of California Los Angeles (UCLA)')"
   ]
  },
  {
   "cell_type": "code",
   "execution_count": 22,
   "metadata": {},
   "outputs": [],
   "source": [
    "marklist = sorted(pr.items(), key=lambda x:-x[1])\n",
    "s = dict(marklist)\n",
    "newdict={}\n",
    "for key in s:\n",
    "    if type(key) is str:\n",
    "        newdict[key]=s[key]\n",
    "    else:\n",
    "        newdict[key[0]]=s[key]\n",
    "\n",
    "        \n"
   ]
  },
  {
   "cell_type": "code",
   "execution_count": 23,
   "metadata": {},
   "outputs": [
    {
     "name": "stdout",
     "output_type": "stream",
     "text": [
      "1 Harvard University 0.04229019327101524\n",
      "2 University of California, Berkeley 0.028497823652320006\n",
      "3 Stanford University 0.02376190552364624\n",
      "4 Princeton University 0.022077565950223497\n",
      "5 Yale University 0.02172885780463156\n",
      "6 University of Michigan 0.019980969419745177\n",
      "7 University of Chicago 0.019161213994096815\n",
      "8 London School of Economics and Political Science 0.015795583815055622\n",
      "9 Massachusetts Institute of Technology 0.015684890997472653\n",
      "10 Columbia University 0.01527336166631159\n",
      "11 Northwestern University 0.014108143632889404\n",
      "12 University of Maryland 0.013398809554691398\n",
      "13 University of California Los Angeles (UCLA) 0.012961743839391552\n",
      "14 New York University 0.012126571121195294\n",
      "15 University of Pennsylvania 0.011524268321641747\n",
      "16 Duke University 0.010670111703927013\n",
      "17 University of Wisconsin, Madison 0.010451201709940646\n",
      "18 University of Oxford 0.010437205875408148\n",
      "19 Boston University 0.00862868547130466\n",
      "20 University of Nottingham 0.00829045256374644\n",
      "21 Toulouse School of Economics 0.007804460867697158\n",
      "22 University of Minnesota, Twin Cities 0.006798834047434459\n",
      "23 University of Bonn (Rheinische Friedrich-Wilhelms-Universität Bonn) 0.006601805139323594\n",
      "24 Cornell University 0.006256059968198987\n",
      "25 University of Toronto 0.00622284694544407\n",
      "26 Pennsylvania State University 0.005543274348846525\n",
      "27 Brown University 0.005400390435814129\n",
      "28 École d'Économie de Paris (Paris School of Economics) 0.00526726631687235\n",
      "29 Bocconi University (Università Bocconi) 0.005265428539144948\n",
      "30 Università di Bologna (University of Bologna) 0.0050143323147843555\n",
      "31 University College London 0.0050000364774746234\n",
      "32 University of Mannheim (Universität Mannheim) 0.004933989106313509\n",
      "33 Tilburg University 0.0048024312425269\n",
      "34 Universitat Pompeu Fabra 0.004664872385978524\n",
      "35 University of Warwick 0.004544276162977685\n",
      "36 University of Rochester 0.004389995269467261\n",
      "37 European University Institute 0.004372804584055331\n",
      "38 Universitat Autònoma de Barcelona 0.0040611555701741105\n",
      "39 Carnegie Mellon University 0.004058578807003256\n",
      "40 Ohio State University 0.003993559002919156\n",
      "41 Johns Hopkins University 0.003906920648289949\n",
      "42 Maastricht University 0.0035556417718235083\n",
      "43 University of Washington 0.003496484456565501\n",
      "44 Washington State University 0.003418416869677074\n",
      "45 MINES ParisTech 0.0032602947548693332\n",
      "46 University of Virginia 0.0032177746861034055\n",
      "47 University of California, Davis 0.003203641682210796\n",
      "48 Michigan State University 0.003199812741327774\n",
      "49 Purdue University 0.003175588500702254\n",
      "50 Washington University in St. Louis 0.0030597333316158136\n",
      "51 University of Zurich (Universität Zürich) 0.003005683348566222\n",
      "52 Boston College 0.0028963885038452756\n",
      "53 University of Texas at Austin 0.0028546719838618284\n",
      "54 Università degli Studi di Roma Tre (Roma Tre University) 0.0028540427866236328\n",
      "55 Stockholm School of Economics 0.0028279717252208867\n",
      "56 Texas A&M University, College Station 0.0028029520933614215\n",
      "57 Université de Bordeaux (University of Bordeaux) 0.002733681949289935\n",
      "58 Vanderbilt University 0.0027100356030723962\n",
      "59 University of British Columbia 0.002661964798216673\n",
      "60 Aligarh Muslim University 0.0026537510621450636\n",
      "61 University of Essex 0.002653173208763527\n",
      "62 University of Cambridge 0.0025687979128758347\n",
      "63 Erasmus University Rotterdam 0.0023546057462536137\n",
      "64 University of Southern California 0.002342675073904558\n",
      "65 University of Vienna (Universität Wien) 0.002322868361773332\n",
      "66 Università degli Studi di Torino (University of Turin) 0.002259065149312413\n",
      "67 University of Arizona 0.0022047939138891593\n",
      "68 Clemson University 0.0021512099240661438\n",
      "69 Universidad Carlos III de Madrid 0.00207777274260982\n",
      "70 Ecole Polytechnique (IP Paris) 0.002037798165763259\n",
      "71 University of California, Santa Barbara 0.0020336164037400403\n",
      "72 London Business School 0.002033514030854916\n",
      "73 Katholieke Universiteit Leuven (KU Leuven) 0.002027513256270033\n",
      "74 Ludwig-Maximilians-Universitat München (LMU) (University of Munich) 0.001990887966849831\n",
      "75 Florida State University 0.001954884542084373\n",
      "76 University of Copenhagen (Københavns Universitet) 0.0018698164606868008\n",
      "77 Georgia State University 0.0018551519977214352\n",
      "78 Université d'Evry Val-d'Essonne 0.0018137151622175775\n",
      "79 Sciences Po 0.001807439447600543\n",
      "80 University of Illinois at Urbana-Champaign 0.0017968589087868044\n",
      "81 Utrecht University (Universiteit Utrecht) 0.0017922559475626737\n",
      "82 Vrije Universiteit Amsterdam 0.0017828231886103693\n",
      "83 Obafemi Awolowo University 0.0017285498630848048\n",
      "84 University of California, San Diego 0.0017151476258433934\n",
      "85 Kansas State University 0.0016896052701977193\n",
      "86 University of Lausanne (Université de Lausanne) 0.0016615924782142075\n",
      "87 Arizona State University 0.0016100562502554179\n",
      "88 Aix-Marseille Université 0.001595349792239605\n",
      "89 Stockholm University 0.0015890126995831571\n",
      "90 University of North Carolina, Chapel Hill 0.0015817458083611383\n",
      "91 Université de Pau et des Pays de l'Adour (University of Pau and Pays de l'Adour) 0.0015739584248222283\n",
      "92 Simon Fraser University 0.0015673450159749427\n",
      "93 University of Pittsburgh 0.001566938256963149\n",
      "94 Università di Roma Tor Vergata (University of Rome Tor Vergata) 0.0015348285140291886\n",
      "95 University of Connecticut 0.0015206365659772134\n",
      "96 Università degli Studi \"G. D’Annunzio\" Chieti-Pescara (University of Chieti-Pescara) 0.0014853194782188518\n",
      "97 INSEAD 0.001478206811656201\n",
      "98 Uppsala University (Uppsala Universitet) 0.0014738660514179204\n",
      "99 George Mason University 0.00147214182073258\n",
      "100 Virginia Tech 0.0014589521544417887\n",
      "101 Sapienza Università di Roma (Sapienza University of Rome) 0.001437390257212462\n"
     ]
    }
   ],
   "source": [
    "for ii,key in enumerate(s):\n",
    "    if ii>100:\n",
    "        break\n",
    "    print(ii+1,key,s[key])"
   ]
  },
  {
   "cell_type": "code",
   "execution_count": 93,
   "metadata": {},
   "outputs": [
    {
     "name": "stdout",
     "output_type": "stream",
     "text": [
      "Harvard University 8.400758080098165e-05\n",
      "University of California, Berkeley 8.400758080098165e-05\n",
      "Stanford University 8.400758080098165e-05\n",
      "Princeton University 8.400758080098165e-05\n",
      "Yale University 8.400758080098165e-05\n",
      "University of Michigan 8.400758080098165e-05\n"
     ]
    }
   ],
   "source": [
    "for ii,key in enumerate(newdict):\n",
    "    if ii>5:\n",
    "        break\n",
    "    print(key,newdict[key])"
   ]
  },
  {
   "cell_type": "code",
   "execution_count": 94,
   "metadata": {},
   "outputs": [],
   "source": [
    "#li=list(s) #this saves the ranking\n",
    "jj= json.dumps(newdict)\n",
    "with open(\"google_rank4\",\"w\") as f:\n",
    "    f.write(jj)\n"
   ]
  },
  {
   "cell_type": "markdown",
   "metadata": {},
   "source": [
    "### Tiers:\n",
    "\n",
    "What we notice is that there four distictint groups each corrsponding to a different pareto distrubtion. The ranks within each group, may be influenced by the number of outcomes. We do see a strong correlation between the number of grads and the page rank; however, it is evident that there are other factors at play."
   ]
  },
  {
   "cell_type": "code",
   "execution_count": 95,
   "metadata": {},
   "outputs": [],
   "source": [
    "try:\n",
    "    import matplotlib.pyplot as plt\n",
    "except:\n",
    "    os.system(\"pip install matplotlib.pyplot\")\n",
    "    import matplotlib.pyplot as plt"
   ]
  },
  {
   "cell_type": "code",
   "execution_count": 96,
   "metadata": {},
   "outputs": [],
   "source": [
    "number_grads={}\n",
    "for uni in list(DG.nodes()):\n",
    "    count=0\n",
    "    for ed in list(DG.edges(uni)):\n",
    "        count+=DG.edges[ed]['weight'] \n",
    "    number_grads[uni]=count\n",
    "   "
   ]
  },
  {
   "cell_type": "code",
   "execution_count": 97,
   "metadata": {},
   "outputs": [
    {
     "data": {
      "text/plain": [
       "93"
      ]
     },
     "execution_count": 97,
     "metadata": {},
     "output_type": "execute_result"
    }
   ],
   "source": [
    "number_grads['New York University']"
   ]
  },
  {
   "cell_type": "code",
   "execution_count": 98,
   "metadata": {},
   "outputs": [],
   "source": [
    "for_graph1 = list(map( lambda i: number_grads.get(i),institutions ))\n",
    "for_graph2=list(map( lambda i: s.get(i),institutions ))\n",
    "\n",
    "\n"
   ]
  },
  {
   "cell_type": "code",
   "execution_count": 99,
   "metadata": {},
   "outputs": [
    {
     "data": {
      "text/plain": [
       "[<matplotlib.lines.Line2D at 0x29cd0e1f400>]"
      ]
     },
     "execution_count": 99,
     "metadata": {},
     "output_type": "execute_result"
    },
    {
     "data": {
      "image/png": "[encoded data removed]",
      "text/plain": [
       "<Figure size 432x288 with 1 Axes>"
      ]
     },
     "metadata": {
      "needs_background": "light"
     },
     "output_type": "display_data"
    }
   ],
   "source": [
    "plt.loglog(for_graph1,for_graph2,\".\")  "
   ]
  },
  {
   "cell_type": "code",
   "execution_count": 100,
   "metadata": {},
   "outputs": [
    {
     "data": {
      "text/plain": [
       "<matplotlib.lines.Line2D at 0x29cd1038c70>"
      ]
     },
     "execution_count": 100,
     "metadata": {},
     "output_type": "execute_result"
    },
    {
     "data": {
      "image/png": "[encoded data removed]",
      "text/plain": [
       "<Figure size 432x288 with 1 Axes>"
      ]
     },
     "metadata": {
      "needs_background": "light"
     },
     "output_type": "display_data"
    }
   ],
   "source": [
    "ii=[i for i in s.values()]\n",
    "plt.loglog(ii,'.')\n",
    "plt.axvline(18)\n",
    "plt.axvline(210)\n",
    "plt.axvline(450)\n",
    "#plt.loglog([10,1000],[3e-3,3e-4])"
   ]
  },
  {
   "cell_type": "code",
   "execution_count": 101,
   "metadata": {},
   "outputs": [
    {
     "data": {
      "image/png": "[encoded data removed]",
      "text/plain": [
       "<Figure size 432x288 with 1 Axes>"
      ]
     },
     "metadata": {
      "needs_background": "light"
     },
     "output_type": "display_data"
    }
   ],
   "source": [
    "aa=plt.hist(np.log(ii),bins=100)\n",
    "plt.yscale('log')"
   ]
  },
  {
   "cell_type": "code",
   "execution_count": 102,
   "metadata": {},
   "outputs": [
    {
     "data": {
      "text/plain": [
       "<matplotlib.lines.Line2D at 0x29cd65b4a90>"
      ]
     },
     "execution_count": 102,
     "metadata": {},
     "output_type": "execute_result"
    },
    {
     "data": {
      "image/png": "[encoded data removed]",
      "text/plain": [
       "<Figure size 432x288 with 1 Axes>"
      ]
     },
     "metadata": {
      "needs_background": "light"
     },
     "output_type": "display_data"
    }
   ],
   "source": [
    "ii=[i for i in s.values()]\n",
    "plt.loglog(ii)\n",
    "plt.xlim(400,500)\n",
    "plt.ylim(1e-4,2e-4)\n",
    "plt.axvline(17)\n",
    "plt.axvline(210)\n",
    "plt.axvline(435)\n",
    "plt.axvline(480)\n",
    "#plt.loglog([10,1000],[3e-3,3e-4])"
   ]
  },
  {
   "cell_type": "markdown",
   "metadata": {},
   "source": [
    "# This sorts out sinks, and then orders the univristies."
   ]
  },
  {
   "cell_type": "code",
   "execution_count": 103,
   "metadata": {},
   "outputs": [],
   "source": [
    "gov_sink_ranks = {name:s.get(name) for name in gov_sink}\n",
    "pri_sink_ranks = {name:s.get(name) for name in pri_sink}\n",
    "tch_sink_ranks = {name:s.get(name) for name in tch_sink}\n",
    "acd_sink_ranks= {name:s.get(name) for name in acd_sink}\n",
    "academic_ranks = {name:s.get(name) for name in academic}\n"
   ]
  },
  {
   "cell_type": "code",
   "execution_count": 104,
   "metadata": {},
   "outputs": [],
   "source": [
    "def ranker(d):\n",
    "    sorted_dict = {}\n",
    "    sorted_keys = sorted(d, key=d.get,reverse=True)\n",
    "    for w in sorted_keys:\n",
    "        sorted_dict[w] = d[w]\n",
    "    return sorted_dict"
   ]
  },
  {
   "cell_type": "code",
   "execution_count": 105,
   "metadata": {},
   "outputs": [],
   "source": [
    "sorted_tuples = sorted(academic_ranks.items(), key=lambda item: item[1])\n",
    "sorted_ranks = {k: v for k, v in sorted_tuples}"
   ]
  },
  {
   "cell_type": "code",
   "execution_count": 106,
   "metadata": {},
   "outputs": [],
   "source": [
    "ordered_acadmic_ranks=ranker(academic_ranks)\n",
    "ordered_gov_sink_ranks=ranker(gov_sink_ranks) \n",
    "ordered_pri_sink_ranks=ranker(pri_sink_ranks)\n",
    "ordered_tch_sink_ranks=ranker(tch_sink_ranks)\n",
    "ordered_acd_sink_ranks=ranker(acd_sink_ranks)"
   ]
  },
  {
   "cell_type": "code",
   "execution_count": 107,
   "metadata": {},
   "outputs": [],
   "source": [
    "ii=[i for i in ordered_acadmic_ranks.values()]"
   ]
  },
  {
   "cell_type": "markdown",
   "metadata": {},
   "source": [
    "# Tiers of Acadmic Insututions\n",
    "\n",
    "Here rather than grouping placements based off haveing a simalar number of outcomes we group placements for being in the same pareto distrubtion. We can see from the graph above, that the distrubtion of pages ranks is one of a piecewise paperto distrubtion. By this it is meant that,\n",
    "\n",
    "$f(x) = \\left\\{ \\begin{matrix} f_1(x) & x \\leq x_2 \\\\ f_2(x) & x_2\\geq x \\leq x_3 \\\\ f_3(x) & x_3 \\geq x \\\\ \\end{matrix}\\right.$\n",
    "\n",
    "\n",
    "\n",
    "Where,\n",
    "\n",
    "\n",
    "$f_i(x) = \\frac{\\alpha x_m^\\alpha}{x^{\\alpha+1}}$. We will use a maximum likelhood framework to determine the cutoffs as well as the parameter's of each parato distrubtion. "
   ]
  },
  {
   "cell_type": "code",
   "execution_count": 108,
   "metadata": {},
   "outputs": [
    {
     "data": {
      "text/plain": [
       "<matplotlib.lines.Line2D at 0x29cd1345df0>"
      ]
     },
     "execution_count": 108,
     "metadata": {},
     "output_type": "execute_result"
    },
    {
     "data": {
      "image/png": "[encoded data removed]",
      "text/plain": [
       "<Figure size 432x288 with 1 Axes>"
      ]
     },
     "metadata": {
      "needs_background": "light"
     },
     "output_type": "display_data"
    }
   ],
   "source": [
    "ii=[i for i in ordered_acadmic_ranks.values()]\n",
    "plt.loglog(ii,'.')\n",
    "plt.axvline(18)\n",
    "plt.axvline(210)\n",
    "plt.axvline(450)"
   ]
  },
  {
   "cell_type": "code",
   "execution_count": 109,
   "metadata": {},
   "outputs": [],
   "source": [
    "from scipy.integrate import quad\n",
    "ii=np.array(ii)\n",
    "igood=ii[ii>ii[450]*1.1]\n",
    "imin=igood.min()\n",
    "imax=igood.max()\n",
    "def pareto_funk(val,x):\n",
    "    return np.where(val<x[1],val**x[0],np.where(val<x[3],(val/x[1])**x[2],np.where(val<x[5],(val/x[3])**x[4],(val/x[5])**x[6]*(x[5]/x[3])**x[4])*(x[3]/x[1])**x[2])*x[1]**x[0])\n",
    "def pareto_loglike(x):\n",
    "    fval=pareto_funk(igood,x)\n",
    "    Npred=quad(lambda val: pareto_funk(val,x),imin,imax)\n",
    "    return -(np.sum(np.log(fval/Npred[0]))-len(igood))"
   ]
  },
  {
   "cell_type": "code",
   "execution_count": 110,
   "metadata": {},
   "outputs": [],
   "source": [
    "from scipy.integrate import quad"
   ]
  },
  {
   "cell_type": "code",
   "execution_count": 111,
   "metadata": {},
   "outputs": [],
   "source": [
    "ii=np.array(ii) \n",
    "#igood=ii[ii>ii[450]*1.1]\n",
    "#imin=igood.min()\n",
    "#imax=igood.max()\n",
    "def pareto_funk(val,x):\n",
    "    return np.where(val<x[1],val**x[0],np.where(val<x[3],(val/x[1])**x[2],np.where(val<x[5],(val/x[3])**x[4],(val/x[5])**x[6]*(x[5]/x[3])**x[4])*(x[3]/x[1])**x[2])*x[1]**x[0])\n",
    "def pareto_loglike(x):\n",
    "    fval=pareto_funk(igood,x)\n",
    "    Npred=quad(lambda val: pareto_funk(val,x),imin,imax)\n",
    "    return -(np.sum(np.log(fval/Npred[0]))-len(igood))"
   ]
  },
  {
   "cell_type": "code",
   "execution_count": 112,
   "metadata": {},
   "outputs": [
    {
     "data": {
      "text/plain": [
       "(0.0001905501866826185, 0.04531189597188701)"
      ]
     },
     "execution_count": 112,
     "metadata": {},
     "output_type": "execute_result"
    }
   ],
   "source": [
    "imin,imax"
   ]
  },
  {
   "cell_type": "code",
   "execution_count": 113,
   "metadata": {},
   "outputs": [],
   "source": [
    "#quad(lambda val: pareto_funk(val,[0.1,1e-3,0.2,1e-2,0.3]),1e-4,1e-1)\n"
   ]
  },
  {
   "cell_type": "code",
   "execution_count": 114,
   "metadata": {},
   "outputs": [],
   "source": [
    "from scipy.optimize import minimize\n",
    "#res=minimize(pareto_loglike,[-1.2,5e-4,-1.8,3e-3,-1.5,2e-2,-3])"
   ]
  },
  {
   "cell_type": "code",
   "execution_count": 115,
   "metadata": {},
   "outputs": [],
   "source": [
    "#res"
   ]
  },
  {
   "cell_type": "code",
   "execution_count": 116,
   "metadata": {},
   "outputs": [
    {
     "name": "stderr",
     "output_type": "stream",
     "text": [
      "C:\\Users\\Jonah\\AppData\\Local\\Temp\\ipykernel_8480\\3428278021.py:9: IntegrationWarning: The occurrence of roundoff error is detected, which prevents \n",
      "  the requested tolerance from being achieved.  The error may be \n",
      "  underestimated.\n",
      "  Npred=quad(lambda val: pareto_funk(val,x),imin,imax)\n"
     ]
    },
    {
     "data": {
      "text/plain": [
       " final_simplex: (array([[-1.25812947e+00,  8.38832686e-04, -1.96572117e+00,\n",
       "         8.63071415e-03, -1.12889030e+00,  2.33562521e-02,\n",
       "        -3.76664911e+00],\n",
       "       [-1.25813122e+00,  8.38832654e-04, -1.96572356e+00,\n",
       "         8.63073016e-03, -1.12888842e+00,  2.33562520e-02,\n",
       "        -3.76663290e+00],\n",
       "       [-1.25813310e+00,  8.38832701e-04, -1.96571656e+00,\n",
       "         8.63073410e-03, -1.12889262e+00,  2.33562518e-02,\n",
       "        -3.76660676e+00],\n",
       "       [-1.25812577e+00,  8.38832649e-04, -1.96572855e+00,\n",
       "         8.63070087e-03, -1.12888597e+00,  2.33562522e-02,\n",
       "        -3.76669232e+00],\n",
       "       [-1.25813360e+00,  8.38832663e-04, -1.96572218e+00,\n",
       "         8.63075652e-03, -1.12888814e+00,  2.33562525e-02,\n",
       "        -3.76659887e+00],\n",
       "       [-1.25811791e+00,  8.38832692e-04, -1.96573198e+00,\n",
       "         8.63074570e-03, -1.12887870e+00,  2.33562522e-02,\n",
       "        -3.76670882e+00],\n",
       "       [-1.25813749e+00,  8.38832737e-04, -1.96572119e+00,\n",
       "         8.63076300e-03, -1.12888964e+00,  2.33562520e-02,\n",
       "        -3.76657080e+00],\n",
       "       [-1.25814249e+00,  8.38832753e-04, -1.96571021e+00,\n",
       "         8.63070496e-03, -1.12890108e+00,  2.33562522e-02,\n",
       "        -3.76656487e+00]]), array([-2119.89422843, -2119.89422843, -2119.89422842, -2119.89422842,\n",
       "       -2119.89422841, -2119.89422841, -2119.8942284 , -2119.8942284 ]))\n",
       "           fun: -2119.894228432073\n",
       "       message: 'Optimization terminated successfully.'\n",
       "          nfev: 1329\n",
       "           nit: 877\n",
       "        status: 0\n",
       "       success: True\n",
       "             x: array([-1.25812947e+00,  8.38832686e-04, -1.96572117e+00,  8.63071415e-03,\n",
       "       -1.12889030e+00,  2.33562521e-02, -3.76664911e+00])"
      ]
     },
     "execution_count": 116,
     "metadata": {},
     "output_type": "execute_result"
    }
   ],
   "source": [
    "res2=minimize(pareto_loglike,res.x*(1+np.random.normal(size=7)*0.2),method='Nelder-Mead') # we use this method because the above one fails\n",
    "res2"
   ]
  },
  {
   "cell_type": "markdown",
   "metadata": {},
   "source": [
    "The reason the Nelder mead doesn't fail is that it does not take numerical derivatives, unlike the previous minimizer. Due to the jumps in distribution, taking numerical derivatives is not an appropriate way to solve this problem."
   ]
  },
  {
   "cell_type": "code",
   "execution_count": 117,
   "metadata": {},
   "outputs": [],
   "source": [
    "cuttoffs=[res2[\"x\"][1],res2[\"x\"][3],res2[\"x\"][5]]"
   ]
  },
  {
   "cell_type": "code",
   "execution_count": 118,
   "metadata": {},
   "outputs": [
    {
     "data": {
      "text/plain": [
       "array([0.00083883, 0.00863071, 0.02335625])"
      ]
     },
     "execution_count": 118,
     "metadata": {},
     "output_type": "execute_result"
    },
    {
     "data": {
      "image/png": "[encoded data removed]",
      "text/plain": [
       "<Figure size 432x288 with 1 Axes>"
      ]
     },
     "metadata": {
      "needs_background": "light"
     },
     "output_type": "display_data"
    }
   ],
   "source": [
    "xxx=np.linspace(imin,imax,1001)\n",
    "plt.loglog(xxx,pareto_funk(xxx,res.x))\n",
    "_xx=res.x[1::2]\n",
    "plt.loglog(_xx,pareto_funk(_xx,res.x),'*')\n",
    "plt.loglog(xxx,pareto_funk(xxx,res2.x))\n",
    "_xx=res2.x[1::2]\n",
    "plt.loglog(_xx,pareto_funk(_xx,res2.x),'*')\n",
    "_xx\n",
    "#plt.loglog(igood,np.linspace(1,len(igood),len(igood))/len(igood))"
   ]
  },
  {
   "cell_type": "code",
   "execution_count": 119,
   "metadata": {},
   "outputs": [
    {
     "data": {
      "text/plain": [
       "[<matplotlib.lines.Line2D at 0x29cd12ea490>]"
      ]
     },
     "execution_count": 119,
     "metadata": {},
     "output_type": "execute_result"
    },
    {
     "data": {
      "image/png": "[encoded data removed]",
      "text/plain": [
       "<Figure size 432x288 with 1 Axes>"
      ]
     },
     "metadata": {
      "needs_background": "light"
     },
     "output_type": "display_data"
    }
   ],
   "source": [
    "xxx=np.linspace(imin,imax,1001)\n",
    "plt.loglog(xxx,pareto_funk(xxx,res.x)/xxx**res.x[0])\n",
    "#plt.loglog(igood,np.linspace(1,len(igood),len(igood))/len(igood))"
   ]
  },
  {
   "cell_type": "code",
   "execution_count": 120,
   "metadata": {},
   "outputs": [
    {
     "data": {
      "text/plain": [
       "[<matplotlib.lines.Line2D at 0x29cd14a7340>]"
      ]
     },
     "execution_count": 120,
     "metadata": {},
     "output_type": "execute_result"
    },
    {
     "data": {
      "image/png": "[encoded data removed]",
      "text/plain": [
       "<Figure size 432x288 with 1 Axes>"
      ]
     },
     "metadata": {
      "needs_background": "light"
     },
     "output_type": "display_data"
    }
   ],
   "source": [
    "xxx=np.linspace(imax,imin,1001)\n",
    "csum=np.cumsum(pareto_funk(xxx,res.x))\n",
    "csum/=csum[-1]\n",
    "csum+=1/len(igood)-csum[0]\n",
    "\n",
    "_xx=res.x[1::2]\n",
    "\n",
    "plt.loglog(igood,np.linspace(1,len(igood),len(igood))/len(igood),'.')\n",
    "plt.loglog(xxx,csum)\n",
    "plt.loglog(_xx,np.interp(_xx,xxx[::-1],csum[::-1]),'*')"
   ]
  },
  {
   "cell_type": "code",
   "execution_count": 121,
   "metadata": {},
   "outputs": [
    {
     "data": {
      "text/plain": [
       "[<matplotlib.lines.Line2D at 0x29cd0eb0fa0>]"
      ]
     },
     "execution_count": 121,
     "metadata": {},
     "output_type": "execute_result"
    },
    {
     "data": {
      "image/png": "[encoded data removed]",
      "text/plain": [
       "<Figure size 432x288 with 1 Axes>"
      ]
     },
     "metadata": {
      "needs_background": "light"
     },
     "output_type": "display_data"
    }
   ],
   "source": [
    "xxx=np.linspace(imax,imin,1001)\n",
    "csum=np.cumsum(pareto_funk(xxx,res2.x))\n",
    "csum/=csum[-1]\n",
    "csum+=1/len(igood)-csum[0]\n",
    "\n",
    "_xx=res2.x[1::2]\n",
    "\n",
    "plt.loglog(igood,np.linspace(1,len(igood),len(igood))/len(igood),'.')\n",
    "plt.loglog(xxx,csum)\n",
    "plt.loglog(_xx,np.interp(_xx,xxx[::-1],csum[::-1]),'*')"
   ]
  },
  {
   "cell_type": "markdown",
   "metadata": {},
   "source": [
    "# Finally rank the Acamadmic unviristies into to tiers"
   ]
  },
  {
   "cell_type": "code",
   "execution_count": 122,
   "metadata": {},
   "outputs": [],
   "source": [
    "t1=list(filter(lambda key: ordered_acadmic_ranks[key] > cuttoffs[2] , ordered_acadmic_ranks))\n",
    "t2=list(filter(lambda key: cuttoffs[1] < ordered_acadmic_ranks[key] < cuttoffs[2] , ordered_acadmic_ranks))\n",
    "t3=list(filter(lambda key: cuttoffs[0] < ordered_acadmic_ranks[key] < cuttoffs[1] , ordered_acadmic_ranks))\n",
    "t4=list(filter(lambda key: ordered_acadmic_ranks[key] < cuttoffs[0] , ordered_acadmic_ranks))"
   ]
  },
  {
   "cell_type": "code",
   "execution_count": 123,
   "metadata": {},
   "outputs": [
    {
     "name": "stdout",
     "output_type": "stream",
     "text": [
      "['Harvard University', 'University of California, Berkeley', 'Stanford University', 'Princeton University']\n"
     ]
    }
   ],
   "source": [
    "print(t1)"
   ]
  },
  {
   "cell_type": "code",
   "execution_count": 124,
   "metadata": {},
   "outputs": [
    {
     "name": "stdout",
     "output_type": "stream",
     "text": [
      "['Yale University', 'University of Michigan', 'University of Chicago', 'London School of Economics and Political Science', 'Massachusetts Institute of Technology', 'Columbia University', 'University of California Los Angeles (UCLA)', 'Northwestern University', 'University of Maryland', 'New York University', 'University of Oxford', 'University of Pennsylvania', 'Duke University', 'University of Wisconsin, Madison', 'Boston University', 'University of Nottingham']\n"
     ]
    }
   ],
   "source": [
    "print(t2)"
   ]
  },
  {
   "cell_type": "code",
   "execution_count": 125,
   "metadata": {},
   "outputs": [],
   "source": [
    "m1=[\"t1\"];m2=[\"t2\"];m3=[\"t3\"];m4=[\"t4\"]\n",
    "final_ranks=m1+t1+m2+t2+m3+t3+m4+t4\n",
    "jj= json.dumps(final_ranks)\n",
    "with open(\"google_tiers\",\"w\") as f:\n",
    "        f.write(jj)"
   ]
  },
  {
   "cell_type": "markdown",
   "metadata": {},
   "source": [
    "# Adjency Matrix:\n",
    "\n",
    "Rather than transfering the alloction file with 640 rankings, and all kinds of things that can happen with unicode, we will transfer the adjency matrix to julia, for the value esitamtion."
   ]
  },
  {
   "cell_type": "code",
   "execution_count": 126,
   "metadata": {},
   "outputs": [],
   "source": [
    "#YEAR_INTERVAL = range(2017,2020)  # change this to select the years of data to include in the estimation\n",
    "NUMBER_OF_TYPES = 4        # change this to select the number of types to classify academic departments into\n",
    "NUMBER_OF_SINKS = 1        # change this to 4 to use individual sink types\n",
    "NUMBER_OF_ROWS = NUMBER_OF_TYPES + NUMBER_OF_SINKS\n",
    "TOTAL_DISTRIBUTIONS = NUMBER_OF_ROWS\n",
    "# change this the index is the type as saved by the categorization progam, the value is the tier that type represents\n",
    "# at the time of writing this has to be set manually using the dict o in the type allocation notebook\n",
    "# this version 2021-12-22\n",
    "#type_to_tier = {\"1\" :\"3\",\"2\":\"2\",\"3\":\"1\",\"4\":\"4\",\"5\":\"5\"}"
   ]
  },
  {
   "cell_type": "markdown",
   "metadata": {},
   "source": [
    "The data in this notebook comes from [https://support.microeconomics.ca/api/placement_data](https://support.microeconomics.ca). We're going to use the type alloction from above, and we have the placements loaded as well."
   ]
  },
  {
   "cell_type": "markdown",
   "metadata": {},
   "source": [
    "Now we can create the adjacency matrix from the placement data using the type allocation in types  Each institution is associated with many organizations.  Organizations can have multiple type assignments if their placements have different postypes.  This function collects all the types that are assigned to an oid. By adjancey matrix we are reffering the adjacency matrix of the dirrected graph of unvirsities."
   ]
  },
  {
   "cell_type": "code",
   "execution_count": 127,
   "metadata": {},
   "outputs": [],
   "source": [
    "def look_up(uni):\n",
    "    if uni in t1:\n",
    "        return 0 #our tiers start at 0 rather than 1, so 0 is the same as 1 and etc\n",
    "    if uni in t2:\n",
    "        return 1\n",
    "    if uni in t3:\n",
    "        return 2\n",
    "    if uni in t4:\n",
    "        return 3\n",
    "    else:\n",
    "        return 4"
   ]
  },
  {
   "cell_type": "code",
   "execution_count": 128,
   "metadata": {},
   "outputs": [
    {
     "data": {
      "text/plain": [
       "array([[0., 0., 0., 0.],\n",
       "       [0., 0., 0., 0.],\n",
       "       [0., 0., 0., 0.],\n",
       "       [0., 0., 0., 0.],\n",
       "       [0., 0., 0., 0.]])"
      ]
     },
     "execution_count": 128,
     "metadata": {},
     "output_type": "execute_result"
    }
   ],
   "source": [
    "placement_rates = np.zeros((NUMBER_OF_ROWS,NUMBER_OF_TYPES))\n",
    "placement_rates"
   ]
  },
  {
   "cell_type": "code",
   "execution_count": 129,
   "metadata": {},
   "outputs": [],
   "source": [
    "broke=[]\n",
    "for p in placements:\n",
    "    if int(p[\"year\"]) in YEAR_INTERVAL:\n",
    "        i1=look_up(p[\"to_name\"])\n",
    "        i2=look_up(p['from_institution_name'])\n",
    "        try:\n",
    "            placement_rates[i1,i2]+=1\n",
    "        except:\n",
    "            broke.append(p[\"from_institution_name\"])"
   ]
  },
  {
   "cell_type": "code",
   "execution_count": 130,
   "metadata": {},
   "outputs": [
    {
     "data": {
      "text/plain": [
       "array([[ 171.,  198.,  123.,   13.],\n",
       "       [ 342.,  564.,  302.,   65.],\n",
       "       [ 343.,  939., 1625.,  290.],\n",
       "       [ 228.,  846., 1444.,  866.],\n",
       "       [ 386., 1486., 2273.,  961.]])"
      ]
     },
     "execution_count": 130,
     "metadata": {},
     "output_type": "execute_result"
    }
   ],
   "source": [
    "placement_rates"
   ]
  },
  {
   "cell_type": "code",
   "execution_count": 131,
   "metadata": {},
   "outputs": [],
   "source": [
    "lists = placement_rates.tolist()\n",
    "json_str = json.dumps(lists)\n",
    "with open(\"mat.json\",\"w\") as f:\n",
    "    f.write(json_str)\n"
   ]
  },
  {
   "cell_type": "code",
   "execution_count": 132,
   "metadata": {},
   "outputs": [],
   "source": [
    "#broke # these placements did not work but are highly irregular"
   ]
  },
  {
   "cell_type": "code",
   "execution_count": 133,
   "metadata": {},
   "outputs": [],
   "source": [
    "import itertools "
   ]
  },
  {
   "cell_type": "code",
   "execution_count": 134,
   "metadata": {},
   "outputs": [
    {
     "name": "stdout",
     "output_type": "stream",
     "text": [
      "Check Complete\n"
     ]
    }
   ],
   "source": [
    "for j,i in itertools.product(range(NUMBER_OF_ROWS),range(NUMBER_OF_TYPES)):\n",
    "    if i > j:\n",
    "        if placement_rates[i, j] <= placement_rates[j, i]:\n",
    "            print(\"FAULT: hiring \", i, \" with graduating \", j, \": downward rate: \", placement_rates[i, j], \", upward rate: \", placement_rates[j, i],'\\n')\n",
    "print(\"Check Complete\")"
   ]
  },
  {
   "cell_type": "markdown",
   "metadata": {},
   "source": [
    "If everything worked fine, there should be no faults in this cell. If there are, change the order in the cell with the explicit order.\n",
    "Next, we construct a numerical global minimizer for the chi-squared metric of differences between the above placement rates and a set of theoretically-predicted rates given by values $v_i$ and offer distributions $F_i(x)$. "
   ]
  }
 ],
 "metadata": {
  "kernelspec": {
   "display_name": "Python 3.9.12 ('base')",
   "language": "python",
   "name": "python3"
  },
  "language_info": {
   "codemirror_mode": {
    "name": "ipython",
    "version": 3
   },
   "file_extension": ".py",
   "mimetype": "text/x-python",
   "name": "python",
   "nbconvert_exporter": "python",
   "pygments_lexer": "ipython3",
   "version": "3.9.13"
  },
  "orig_nbformat": 4,
  "vscode": {
   "interpreter": {
    "hash": "2340ab7816cff6693adcd93269b1c72e3a8f571e212f5a8d0cdaa74f17b20923"
   }
  }
 },
 "nbformat": 4,
 "nbformat_minor": 2
}
